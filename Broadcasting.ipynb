{
 "cells": [
  {
   "cell_type": "code",
   "execution_count": 1,
   "metadata": {},
   "outputs": [
    {
     "name": "stdout",
     "output_type": "stream",
     "text": [
      "A: [[ 56.    0.    4.4  68. ]\n",
      " [  1.2 104.   52.    8. ]\n",
      " [  1.8 135.   99.    0.9]]\n",
      "A.shape: (3, 4)\n"
     ]
    }
   ],
   "source": [
    "import numpy as np\n",
    "\n",
    "# **** on the x-axis: apples, beef, eggs and potatoes\n",
    "#      on the y-axis: Carbs, Protein and Fat ****\n",
    "A = np.array([[56.0, 0.0, 4.4, 68.0],\n",
    "             [1.2, 104.0, 52.0, 8.0],\n",
    "             [1.8, 135.0, 99.0, 0.9]])\n",
    "\n",
    "print(\"A: \" + str(A))\n",
    "print(\"A.shape: \" + str(A.shape))"
   ]
  },
  {
   "cell_type": "code",
   "execution_count": 2,
   "metadata": {},
   "outputs": [
    {
     "name": "stdout",
     "output_type": "stream",
     "text": [
      "cal: 530.3000000000001\n",
      "cal.shape: ()\n"
     ]
    }
   ],
   "source": [
    "# **** sums all values in A ****\n",
    "cal = A.sum()\n",
    "print(\"cal: \" + str(cal))\n",
    "print(\"cal.shape: \" + str(cal.shape))"
   ]
  },
  {
   "cell_type": "code",
   "execution_count": 3,
   "metadata": {},
   "outputs": [
    {
     "name": "stdout",
     "output_type": "stream",
     "text": [
      "cal: [ 59.  239.  155.4  76.9]\n",
      "cal.shape: (4,)\n"
     ]
    }
   ],
   "source": [
    "# **** sum all colums in A ****\n",
    "cal = A.sum(axis=0)\n",
    "print(\"cal: \" + str(cal))\n",
    "print(\"cal.shape: \" + str(cal.shape))"
   ]
  },
  {
   "cell_type": "code",
   "execution_count": 4,
   "metadata": {},
   "outputs": [
    {
     "name": "stdout",
     "output_type": "stream",
     "text": [
      "percentage:\n",
      "[[94.91525424  0.          2.83140283 88.42652796]\n",
      " [ 2.03389831 43.51464435 33.46203346 10.40312094]\n",
      " [ 3.05084746 56.48535565 63.70656371  1.17035111]]\n",
      "percentage.shape: (3, 4)\n"
     ]
    }
   ],
   "source": [
    "# **** compute percentages (every column in A was divided by every column in cal) ****\n",
    "percentage = (A / cal) * 100.0\n",
    "print(\"percentage:\\n\" + str(percentage))\n",
    "print(\"percentage.shape: \" + str(percentage.shape))"
   ]
  },
  {
   "cell_type": "code",
   "execution_count": 5,
   "metadata": {},
   "outputs": [
    {
     "name": "stdout",
     "output_type": "stream",
     "text": [
      "percentage:\n",
      "[[94.91525424  0.          2.83140283 88.42652796]\n",
      " [ 2.03389831 43.51464435 33.46203346 10.40312094]\n",
      " [ 3.05084746 56.48535565 63.70656371  1.17035111]]\n",
      "percentage.shape: (3, 4)\n"
     ]
    }
   ],
   "source": [
    "# **** each column in A was divided by the corresponding column in cal ****\n",
    "percentage = (A / cal.reshape(1, 4)) * 100.0\n",
    "print(\"percentage:\\n\" + str(percentage))\n",
    "print(\"percentage.shape: \" + str(percentage.shape))"
   ]
  },
  {
   "cell_type": "code",
   "execution_count": 6,
   "metadata": {},
   "outputs": [
    {
     "name": "stdout",
     "output_type": "stream",
     "text": [
      "B:\n",
      "[1 2 3 4]\n",
      "B.shape: (4,)\n",
      "\n",
      "B:\n",
      "[101 102 103 104]\n",
      "B.shape: (4,)\n"
     ]
    }
   ],
   "source": [
    "# **** a different example ****\n",
    "B = np.array([1, 2, 3, 4])\n",
    "print(\"B:\\n\" + str(B))\n",
    "print(\"B.shape: \" + str(B.shape))\n",
    "print()\n",
    "\n",
    "B += 100\n",
    "print(\"B:\\n\" + str(B))\n",
    "print(\"B.shape: \" + str(B.shape))"
   ]
  },
  {
   "cell_type": "code",
   "execution_count": 7,
   "metadata": {},
   "outputs": [
    {
     "name": "stdout",
     "output_type": "stream",
     "text": [
      "B:\n",
      "[[1 2 3 4]]\n",
      "B.shape: (1, 4)\n",
      "B:\n",
      "[[101 102 103 104]]\n",
      "B.shape: (1, 4)\n"
     ]
    }
   ],
   "source": [
    "# ***** ****\n",
    "B = np.array([[1 ,2, 3, 4]])\n",
    "print(\"B:\\n\" + str(B))\n",
    "print(\"B.shape: \" + str(B.shape))\n",
    "\n",
    "B += 100\n",
    "print(\"B:\\n\" + str(B))\n",
    "print(\"B.shape: \" + str(B.shape))"
   ]
  },
  {
   "cell_type": "code",
   "execution_count": 8,
   "metadata": {},
   "outputs": [
    {
     "name": "stdout",
     "output_type": "stream",
     "text": [
      "B:\n",
      "[[1]\n",
      " [2]\n",
      " [3]\n",
      " [4]]\n",
      "B.shape: (4, 1)\n",
      "\n",
      "B:\n",
      "[[101]\n",
      " [102]\n",
      " [103]\n",
      " [104]]\n",
      "B.shape: (4, 1)\n"
     ]
    }
   ],
   "source": [
    "# **** ****\n",
    "B = np.array([[1], [2], [3], [4]])\n",
    "print(\"B:\\n\" + str(B))\n",
    "print(\"B.shape: \" + str(B.shape))\n",
    "print()\n",
    "\n",
    "B += 100\n",
    "print(\"B:\\n\" + str(B))\n",
    "print(\"B.shape: \" + str(B.shape))"
   ]
  },
  {
   "cell_type": "code",
   "execution_count": 9,
   "metadata": {},
   "outputs": [
    {
     "name": "stdout",
     "output_type": "stream",
     "text": [
      "C:\n",
      "[[1 2 3]\n",
      " [4 5 6]]\n",
      "C.shape: (2, 3)\n",
      "\n",
      "D:\n",
      "[[100 200 300]]\n",
      "D.shape: (1, 3)\n"
     ]
    }
   ],
   "source": [
    "# **** yet one more example ****\n",
    "C = np.array([[1, 2, 3],\n",
    "              [4, 5, 6]])\n",
    "print(\"C:\\n\" + str(C))\n",
    "print(\"C.shape: \" + str(C.shape))\n",
    "print()\n",
    "\n",
    "D = np.array([[100, 200, 300]])\n",
    "print(\"D:\\n\" + str(D))\n",
    "print(\"D.shape: \" + str(D.shape))"
   ]
  },
  {
   "cell_type": "code",
   "execution_count": 10,
   "metadata": {},
   "outputs": [
    {
     "name": "stdout",
     "output_type": "stream",
     "text": [
      "E:\n",
      "[[101 202 303]\n",
      " [104 205 306]]\n",
      "E.shape: (2, 3)\n"
     ]
    }
   ],
   "source": [
    "# **** C[2,3] + D[1,3] broadcasted to: C[2,3] + D[2,3] = E[2,3]\n",
    "E = C + D\n",
    "print(\"E:\\n\" + str(E))\n",
    "print(\"E.shape: \" + str(E.shape))"
   ]
  },
  {
   "cell_type": "code",
   "execution_count": 11,
   "metadata": {},
   "outputs": [
    {
     "name": "stdout",
     "output_type": "stream",
     "text": [
      "F:\n",
      "[[1 2 3]\n",
      " [4 5 6]]\n",
      "F.shape: (2, 3)\n"
     ]
    }
   ],
   "source": [
    "# **** one last example ****\n",
    "F = np.array([[1, 2, 3],\n",
    "              [4, 5, 6]])\n",
    "print(\"F:\\n\" + str(F))\n",
    "print(\"F.shape: \" + str(F.shape))"
   ]
  },
  {
   "cell_type": "code",
   "execution_count": 12,
   "metadata": {},
   "outputs": [
    {
     "name": "stdout",
     "output_type": "stream",
     "text": [
      "G:\n",
      "[[100]\n",
      " [200]]\n",
      "G.shape(2, 1)\n"
     ]
    }
   ],
   "source": [
    "G = np.array([[100],\n",
    "              [200]])\n",
    "print(\"G:\\n\" + str(G))\n",
    "print(\"G.shape\" + str(G.shape))"
   ]
  },
  {
   "cell_type": "code",
   "execution_count": 13,
   "metadata": {},
   "outputs": [
    {
     "name": "stdout",
     "output_type": "stream",
     "text": [
      "H:\n",
      "[[101 102 103]\n",
      " [204 205 206]]\n",
      "H.shape: (2, 3)\n"
     ]
    }
   ],
   "source": [
    "# **** F[2,3] + G[2,1] broadcasted to: F[2,3] + G[2,3] = H[2,3]****\n",
    "H = F + G\n",
    "print(\"H:\\n\" + str(H))\n",
    "print(\"H.shape: \" + str(H.shape))"
   ]
  },
  {
   "cell_type": "code",
   "execution_count": null,
   "metadata": {},
   "outputs": [],
   "source": []
  }
 ],
 "metadata": {
  "kernelspec": {
   "display_name": "Python 3",
   "language": "python",
   "name": "python3"
  },
  "language_info": {
   "codemirror_mode": {
    "name": "ipython",
    "version": 3
   },
   "file_extension": ".py",
   "mimetype": "text/x-python",
   "name": "python",
   "nbconvert_exporter": "python",
   "pygments_lexer": "ipython3",
   "version": "3.7.1"
  }
 },
 "nbformat": 4,
 "nbformat_minor": 2
}
